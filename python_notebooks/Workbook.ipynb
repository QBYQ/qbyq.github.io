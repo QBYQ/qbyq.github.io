{
 "cells": [
  {
   "cell_type": "markdown",
   "metadata": {},
   "source": [
    "# OPTIONAL Workbook for Homework #8\n",
    "\n",
    "You are welcome to work on a local version of a notebook and upload it for this assignment.\n",
    "\n",
    "This workspace is here if you'd rather not have to install all necessary packages locally.\n",
    "\n",
    "You can download any json files to your local computer to add them to your jekyll page."
   ]
  },
  {
   "cell_type": "markdown",
   "metadata": {},
   "source": [
    "To download, you can right-click on the file and hit download.  For example, with the following code:\n",
    "\n",
    "```python\n",
    "from vega_datasets import data\n",
    "import altair as alt\n",
    "\n",
    "source = data.cars()\n",
    "source.rename(columns={\"Miles_per_Gallon\":\"Miles per Gallon\"}, \n",
    "              inplace=True)\n",
    "\n",
    "\n",
    "chart = alt.Chart(source).mark_circle(size=60).encode(\n",
    "    x='Horsepower',\n",
    "    y='Miles per Gallon',\n",
    "    color='Origin',\n",
    "    tooltip=['Name', 'Origin', 'Horsepower', 'Miles per Gallon']\n",
    ").interactive()\n",
    "\n",
    "chart.properties(width='container').save(\"cars.json\")\n",
    "```\n",
    "\n",
    "You can download from the side bar like this:"
   ]
  },
  {
   "cell_type": "code",
   "execution_count": 1,
   "metadata": {},
   "outputs": [],
   "source": [
    "import altair as alt\n",
    "import pandas as pd\n",
    "\n",
    "df = pd.read_csv(\"https://raw.githubusercontent.com/UIUC-iSchool-DataViz/is445_data/main/building_inventory.csv\")\n",
    "alt.data_transformers.disable_max_rows()\n",
    "\n",
    "df['Year Acquired Decade'] = (df['Year Acquired'] // 10) * 10\n",
    "df['Year Constructed Decade'] = (df['Year Constructed'] // 10) * 10\n",
    "\n",
    "acquired_chart = alt.Chart(df).mark_bar().encode(\n",
    "    x=alt.X('Year Acquired Decade:O', title='Decade'),\n",
    "    y=alt.Y('count()', title='Number of Buildings'),\n",
    "    color=alt.Color('Year Acquired Decade:O', scale=alt.Scale(scheme='blues')),\n",
    "    tooltip=['Year Acquired Decade', 'count()']\n",
    ").transform_filter(alt.datum['Year Acquired'] > 0).properties(title=\"Buildings Acquired Over Time\")"
   ]
  },
  {
   "cell_type": "markdown",
   "metadata": {},
   "source": [
    "This plot visualizes the temporal trends of building acquisitions and constructions over time. By grouping buildings by decade, the plot shows the number of buildings acquired and constructed in each time period. This allows us to observe patterns of growth, such as which decades saw higher activity in acquiring or constructing new buildings.\n",
    "\n",
    "The x-axis represents decades (e.g., 1970s, 1980s) as ordinal categories for clarity and grouping. The y-axis encodes the count of buildings acquired or constructed in each decade.\n",
    "\n",
    "A sequential blue color scale is used for Year Acquired to emphasize progression over time. A sequential orange scale is applied for Year Constructed to differentiate it clearly from acquisitions. Tooltip encoding allows users to see specific decade values and building counts for both acquisitions and constructions when they hover over a bar.\n",
    "\n",
    "Binning: Both Year Acquired and Year Constructed columns were binned into decades using integer division in Python: (Year // 10) * 10. This groups years into meaningful time intervals for easier comparison.\n",
    "\n",
    "Filtering: Rows with missing or invalid data were removed to ensure accuracy.\n",
    "\n",
    "For the interactivity, users can hover over any bar to see the decade, building count, and the category clearly."
   ]
  },
  {
   "cell_type": "code",
   "execution_count": 2,
   "metadata": {},
   "outputs": [],
   "source": [
    "constructed_chart = alt.Chart(df).mark_bar().encode(\n",
    "    x=alt.X('Year Constructed Decade:O', title='Decade'),\n",
    "    y=alt.Y('count()', title='Number of Buildings'),\n",
    "    color=alt.Color('Year Constructed Decade:O', scale=alt.Scale(scheme='oranges')),\n",
    "    tooltip=['Year Constructed Decade', 'count()']\n",
    ").transform_filter(alt.datum['Year Constructed'] > 0).properties(title=\"Buildings Constructed Over Time\")"
   ]
  },
  {
   "cell_type": "markdown",
   "metadata": {},
   "source": [
    "This plot categorizes buildings by their usage descriptions and visualizes the distribution of their square footage. A boxplot was chosen to highlight the variability and typical size ranges for each usage category, making it easy to identify outliers and compare categories.\n",
    "\n",
    "The x-axis represents Usage Description as categorical data, making each category clearly distinguishable. The y-axis encodes Square Footage using a logarithmic scale to handle the wide range of values, from small buildings to large facilities.\n",
    "\n",
    "Tooltip encoding is included to display detailed statistics for each usage category.\n",
    "\n",
    "Filtering: Rows with missing or zero values in the Square Footage column were removed to avoid misleading results.\n",
    "Aggregation: Summary statistics for each usage category, such as median, quartiles, and outliers, were calculated automatically within the Altair boxplot framework.\n",
    "\n",
    "For the interactivity, a dropdown menu allows users to filter the data by County. This interaction enables exploration of how building usage patterns and square footage distributions vary across different regions. Similar as the last plot, when hovering over a boxplot, users can view detailed information, including the median square footage, interquartile range, and the number of buildings for that category."
   ]
  },
  {
   "cell_type": "code",
   "execution_count": 3,
   "metadata": {},
   "outputs": [],
   "source": [
    "chart = constructed_chart | acquired_chart"
   ]
  },
  {
   "cell_type": "code",
   "execution_count": 4,
   "metadata": {},
   "outputs": [],
   "source": [
    "myJekyllDir = '/Users/qiuboyuan/Desktop/IS445/assets/json/'"
   ]
  },
  {
   "cell_type": "code",
   "execution_count": 5,
   "metadata": {},
   "outputs": [],
   "source": [
    "chart.save(myJekyllDir + 'chart.json')\n",
    "constructed_chart.save(myJekyllDir + 'constructed_chart.json')\n",
    "acquired_chart.save(myJekyllDir + 'acquired_chart.json')"
   ]
  }
 ],
 "metadata": {
  "kernelspec": {
   "display_name": "base",
   "language": "python",
   "name": "python3"
  },
  "language_info": {
   "codemirror_mode": {
    "name": "ipython",
    "version": 3
   },
   "file_extension": ".py",
   "mimetype": "text/x-python",
   "name": "python",
   "nbconvert_exporter": "python",
   "pygments_lexer": "ipython3",
   "version": "3.10.8"
  }
 },
 "nbformat": 4,
 "nbformat_minor": 4
}
